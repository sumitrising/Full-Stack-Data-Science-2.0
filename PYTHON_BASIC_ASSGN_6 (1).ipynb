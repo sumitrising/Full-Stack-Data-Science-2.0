{
 "cells": [
  {
   "cell_type": "markdown",
   "metadata": {},
   "source": [
    "## 1.What are escape characters, and how do you use them?\n",
    "## Ans:- Escape characters are special characters  in a string value  which allow to insert characters in a string. They are used with back slash(\\)\n",
    "\n",
    "\n",
    "\n",
    "\n"
   ]
  },
  {
   "cell_type": "markdown",
   "metadata": {},
   "source": [
    "## 2.What do the escape characters n and t stand for?\n",
    "## Ans:-\\n stands for new line\n",
    "## \\t stands for tab"
   ]
  },
  {
   "cell_type": "markdown",
   "metadata": {},
   "source": [
    "## 3.What is the way to include backslash characters in a string?\n",
    "## Ans:-Blackslash characters in a string can be include with double blackslash(\\\\)."
   ]
  },
  {
   "cell_type": "markdown",
   "metadata": {},
   "source": [
    "## 4. The string \"Howl's Moving Castle\" is a correct value. Why isn't the single quote character in the word Howl's not escaped a problem?\n",
    "## Ans:- The single quote in the word ‘Howl’s’ didn’t throw a error as double quote is used a the start and end of the sentence."
   ]
  },
  {
   "cell_type": "markdown",
   "metadata": {},
   "source": [
    "## 5. How do you write a string of newlines if you don't want to use the n character?\n",
    "## Ans:- To write a string of newlines it can be used with ‘\\n’."
   ]
  },
  {
   "cell_type": "markdown",
   "metadata": {},
   "source": [
    " ## 6. What are the values of the given expressions## ?\n",
    "## 'Hello, world!'## [1]\n",
    "## Ans:-‘e’\n",
    "## 'Hello, world!'[0:5]\n",
    "## Ans:-‘Hello’\n",
    "## 'Hello, world!'[:5]\n",
    "## Ans:- Hello’\n",
    "## ‘Hello, world!'[3:]\n",
    "## Ans:-‘lo world’"
   ]
  },
  {
   "cell_type": "markdown",
   "metadata": {},
   "source": [
    "## 7. What are the values of the following expressions?\n",
    "## 'Hello'.upper()\n",
    "## Ans:-‘HELLO’\n",
    "## 'Hello'.upper().isupper()\n",
    "## ANS:-‘True’\n",
    "## 'Hello'.upper().lower()\n",
    "## ANS:-‘hello’"
   ]
  },
  {
   "cell_type": "markdown",
   "metadata": {},
   "source": [
    "## 8. What are the values of the following expressions?\n",
    "## 'Remember, remember, the fifth of July.'.split()\n",
    "## '-'.join('There can only one.'.split())\n",
    "## Ans:- 'Remember’, ‘remember’, ‘the’, ‘fifth’, ‘of’, ‘July’\n",
    "## 'There- can -only -one.'"
   ]
  },
  {
   "cell_type": "markdown",
   "metadata": {},
   "source": [
    "## 9. What are the methods for right-justifying, left-justifying, and centering a string?\n",
    "## Ans:-rjust(), ljust() and center() are the methods for right-justifying, left-justifying, and centering a string."
   ]
  },
  {
   "cell_type": "markdown",
   "metadata": {},
   "source": [
    "## 10. What is the best way to remove whitespace characters from the start or end?\n",
    "## Ans:-To remove white spaces from the start or end of a string .strip() or it can be used with .lstrip()  and .rstrip() based upon the white spaces available in the string.\n"
   ]
  },
  {
   "cell_type": "code",
   "execution_count": null,
   "metadata": {},
   "outputs": [],
   "source": []
  }
 ],
 "metadata": {
  "kernelspec": {
   "display_name": "Python 3",
   "language": "python",
   "name": "python3"
  },
  "language_info": {
   "codemirror_mode": {
    "name": "ipython",
    "version": 3
   },
   "file_extension": ".py",
   "mimetype": "text/x-python",
   "name": "python",
   "nbconvert_exporter": "python",
   "pygments_lexer": "ipython3",
   "version": "3.7.4"
  }
 },
 "nbformat": 4,
 "nbformat_minor": 2
}
